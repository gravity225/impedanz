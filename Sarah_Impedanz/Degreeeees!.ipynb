{
 "cells": [
  {
   "cell_type": "markdown",
   "metadata": {},
   "source": [
    "CSV von Linus umschreiben von rad in degrees! Jede dritte zeile anpassen"
   ]
  },
  {
   "cell_type": "code",
   "execution_count": 6,
   "metadata": {},
   "outputs": [],
   "source": [
    "import csv\n",
    "import math\n",
    "\n",
    "# Funktion zur Umrechnung von Radiant in Grad\n",
    "def rad_to_deg(rad):\n",
    "    return (rad * 360) / (2 * math.pi)\n",
    "\n",
    "# Datei einlesen und verarbeiten\n",
    "def process_csv(input_file, output_file):\n",
    "    with open(input_file, newline='') as csvfile:\n",
    "        reader = csv.reader(csvfile)\n",
    "        rows = list(reader)\n",
    "\n",
    "    # Die erste Zeile (Header) überspringen\n",
    "    header = rows[0]\n",
    "    data = rows[1:]\n",
    "\n",
    "    # Jede dritte Spalte verarbeiten (Index 2, 5, 8,...)\n",
    "    for i in range(len(data)):\n",
    "        for j in range(2, len(data[i]), 3):\n",
    "            try:\n",
    "                # Konvertiere nur, wenn es sich um eine Zahl handelt\n",
    "                data[i][j] = str(rad_to_deg(float(data[i][j])))\n",
    "            except ValueError:\n",
    "                pass  # Wenn es kein Zahlwert ist, überspringen\n",
    "\n",
    "    # Neue Datei mit den konvertierten Werten schreiben\n",
    "    with open(output_file, 'w', newline='') as csvfile:\n",
    "        writer = csv.writer(csvfile)\n",
    "        writer.writerow(header)\n",
    "        writer.writerows(data)\n",
    "\n",
    "# Beispiel: Verwende die folgenden Dateinamen für Input und Output\n",
    "input_csv = 'impedanz_data_RAD.csv'\n",
    "output_csv = 'impedanz_data_DEGREE.csv'\n",
    "\n",
    "# Verarbeite die CSV-Datei\n",
    "process_csv(input_csv, output_csv)\n"
   ]
  }
 ],
 "metadata": {
  "kernelspec": {
   "display_name": "Python 3",
   "language": "python",
   "name": "python3"
  },
  "language_info": {
   "codemirror_mode": {
    "name": "ipython",
    "version": 3
   },
   "file_extension": ".py",
   "mimetype": "text/x-python",
   "name": "python",
   "nbconvert_exporter": "python",
   "pygments_lexer": "ipython3",
   "version": "3.11.9"
  }
 },
 "nbformat": 4,
 "nbformat_minor": 2
}
